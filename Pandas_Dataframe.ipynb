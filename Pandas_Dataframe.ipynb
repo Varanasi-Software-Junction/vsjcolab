{
  "nbformat": 4,
  "nbformat_minor": 0,
  "metadata": {
    "colab": {
      "provenance": [],
      "authorship_tag": "ABX9TyM0sxTG4tbjQPLfVlXuAs0e",
      "include_colab_link": true
    },
    "kernelspec": {
      "name": "python3",
      "display_name": "Python 3"
    },
    "language_info": {
      "name": "python"
    }
  },
  "cells": [
    {
      "cell_type": "markdown",
      "metadata": {
        "id": "view-in-github",
        "colab_type": "text"
      },
      "source": [
        "<a href=\"https://colab.research.google.com/github/Varanasi-Software-Junction/vsjcolab/blob/main/Pandas_Dataframe.ipynb\" target=\"_parent\"><img src=\"https://colab.research.google.com/assets/colab-badge.svg\" alt=\"Open In Colab\"/></a>"
      ]
    },
    {
      "cell_type": "markdown",
      "source": [
        "**Beginning Pandas**\n",
        "**DataFrame** is a 2-dimensional labeled data structure with columns. It is compatible with a spreadsheet ,SQL table, or a dict of Series objects.\n",
        "\n",
        "Dataframes are created by\n",
        "1. A dictionary of 1D ndarrays, lists, dictionaries, or Series.\n",
        "\n"
      ],
      "metadata": {
        "id": "yAaWgSK4EMrL"
      }
    },
    {
      "cell_type": "markdown",
      "source": [
        "**Imports** "
      ],
      "metadata": {
        "id": "CLm6wmCgMcdP"
      }
    },
    {
      "cell_type": "code",
      "source": [
        "import numpy as np\n",
        "import pandas as pd"
      ],
      "metadata": {
        "id": "Kab7jqtVMjTe"
      },
      "execution_count": 11,
      "outputs": []
    },
    {
      "cell_type": "markdown",
      "source": [
        "**Simple Pandas Example**\n",
        "\n",
        "**Dataframe** from **Series**"
      ],
      "metadata": {
        "id": "BuAwyJIAEviK"
      }
    },
    {
      "cell_type": "code",
      "execution_count": 1,
      "metadata": {
        "colab": {
          "base_uri": "https://localhost:8080/",
          "height": 122
        },
        "id": "pw_73YsyELz0",
        "outputId": "1ff54709-83e8-4520-d562-636866d8cfe6"
      },
      "outputs": [
        {
          "output_type": "stream",
          "name": "stdout",
          "text": [
            "   Runs  Wickets\n",
            "0    10        1\n",
            "1   100        2\n",
            "2    50        3\n",
            "3   420      420\n"
          ]
        },
        {
          "output_type": "execute_result",
          "data": {
            "text/plain": [
              "'\\nOutput\\n\\nRuns Wickets\\n0 10 1\\n1 100 2\\n2 50 3\\n3 420 420\\n'"
            ],
            "application/vnd.google.colaboratory.intrinsic+json": {
              "type": "string"
            }
          },
          "metadata": {},
          "execution_count": 1
        }
      ],
      "source": [
        "\n",
        "runs=pd.Series([10,100,50,420])\n",
        "wickets=pd.Series([1,2,3,420])\n",
        "data= {\"Runs\":runs,\"Wickets\":wickets}\n",
        "df=pd.DataFrame(data)\n",
        "print(df)\n",
        "'''\n",
        "Output\n",
        "\n",
        "Runs Wickets\n",
        "0 10 1\n",
        "1 100 2\n",
        "2 50 3\n",
        "3 420 420\n",
        "'''"
      ]
    },
    {
      "cell_type": "markdown",
      "source": [
        "**Dataframe** from **list** and **Series**"
      ],
      "metadata": {
        "id": "VrHLcSCgFiOt"
      }
    },
    {
      "cell_type": "code",
      "source": [
        "\n",
        "runs=[10,100,50,420]\n",
        "wickets=[1,2,3,420]\n",
        "names=[\"Sachin\",\"Rahul\",\"Dhoni\",\"Pappu\"]\n",
        "runseries=pd.Series(runs,index=names)\n",
        "wicketseries=pd.Series(wickets,index=names)\n",
        "data= {\"Runs\" : runseries, \"Wickets\" : wicketseries}\n",
        "df=pd.DataFrame(data)\n",
        "print(df)\n",
        "'''\n",
        "Output\n",
        "\n",
        "Runs Wickets\n",
        "Sachin 10 1\n",
        "Rahul 100 2\n",
        "Dhoni 50 3\n",
        "Pappu 420 420\n",
        "'''"
      ],
      "metadata": {
        "colab": {
          "base_uri": "https://localhost:8080/",
          "height": 122
        },
        "id": "MdPnJLB0F3DZ",
        "outputId": "d4e2334c-f38d-463c-be8c-71a6430dcc5c"
      },
      "execution_count": 12,
      "outputs": [
        {
          "output_type": "stream",
          "name": "stdout",
          "text": [
            "        Runs  Wickets\n",
            "Sachin    10        1\n",
            "Rahul    100        2\n",
            "Dhoni     50        3\n",
            "Pappu    420      420\n"
          ]
        },
        {
          "output_type": "execute_result",
          "data": {
            "text/plain": [
              "'\\nOutput\\n\\nRuns Wickets\\nSachin 10 1\\nRahul 100 2\\nDhoni 50 3\\nPappu 420 420\\n'"
            ],
            "application/vnd.google.colaboratory.intrinsic+json": {
              "type": "string"
            }
          },
          "metadata": {},
          "execution_count": 12
        }
      ]
    },
    {
      "cell_type": "markdown",
      "source": [
        "**Dataframe** from **dictionary**"
      ],
      "metadata": {
        "id": "lFQU87u8Glzf"
      }
    },
    {
      "cell_type": "code",
      "source": [
        "\n",
        "runs=[10,100,50,420]\n",
        "wickets=[1,2,3,420]\n",
        "names=[\"Sachin\",\"Rahul\",\"Dhoni\",\"Pappu\"]\n",
        "data= {\"Runs\" : runs, \"Wickets\" : wickets}\n",
        "df=pd.DataFrame(data,index=names)\n",
        "print(df)\n",
        "'''\n",
        "Output\n",
        "\n",
        "Runs Wickets\n",
        "Sachin 10 1\n",
        "Rahul 100 2\n",
        "Dhoni 50 3\n",
        "Pappu 420 420\n",
        "'''"
      ],
      "metadata": {
        "colab": {
          "base_uri": "https://localhost:8080/",
          "height": 122
        },
        "id": "UWgc2qkcGsmd",
        "outputId": "f78b4f25-4527-4db3-9b15-8b85a9094d81"
      },
      "execution_count": 13,
      "outputs": [
        {
          "output_type": "stream",
          "name": "stdout",
          "text": [
            "        Runs  Wickets\n",
            "Sachin    10        1\n",
            "Rahul    100        2\n",
            "Dhoni     50        3\n",
            "Pappu    420      420\n"
          ]
        },
        {
          "output_type": "execute_result",
          "data": {
            "text/plain": [
              "'\\nOutput\\n\\nRuns Wickets\\nSachin 10 1\\nRahul 100 2\\nDhoni 50 3\\nPappu 420 420\\n'"
            ],
            "application/vnd.google.colaboratory.intrinsic+json": {
              "type": "string"
            }
          },
          "metadata": {},
          "execution_count": 13
        }
      ]
    },
    {
      "cell_type": "markdown",
      "source": [
        "**Rearrange Columns**"
      ],
      "metadata": {
        "id": "JpMwnuUUHPJL"
      }
    },
    {
      "cell_type": "code",
      "source": [
        "\n",
        "runs=[10,100,50,420]\n",
        "wickets=[1,2,3,420]\n",
        "names=[\"Sachin\",\"Rahul\",\"Dhoni\",\"Pappu\"]\n",
        "data= {\"runs\" : runs, \"wickets\" : wickets}\n",
        "print(data)\n",
        "df=pd.DataFrame(data,index=names , columns=['wickets','runs'])\n",
        "print(df)"
      ],
      "metadata": {
        "colab": {
          "base_uri": "https://localhost:8080/"
        },
        "id": "QutQ9Y_tHcfI",
        "outputId": "5a5410c4-8ffc-4e47-e25b-c329b21a0bee"
      },
      "execution_count": 14,
      "outputs": [
        {
          "output_type": "stream",
          "name": "stdout",
          "text": [
            "{'runs': [10, 100, 50, 420], 'wickets': [1, 2, 3, 420]}\n",
            "        wickets  runs\n",
            "Sachin        1    10\n",
            "Rahul         2   100\n",
            "Dhoni         3    50\n",
            "Pappu       420   420\n"
          ]
        }
      ]
    },
    {
      "cell_type": "markdown",
      "source": [
        "Example Accessing **Rows** and **Columns**"
      ],
      "metadata": {
        "id": "6CgKRySKIGF3"
      }
    },
    {
      "cell_type": "code",
      "source": [
        "\n",
        "runs=[10,100,50,420]\n",
        "wickets=[1,2,3,420]\n",
        "names=[\"Sachin\",\"Rahul\",\"Dhoni\",\"Pappu\"]\n",
        "data= {\"runs\" : runs, \"wickets\" : wickets}\n",
        "print(data)\n",
        "df=pd.DataFrame(data,index=names , columns=['wickets','runs'])\n",
        "print(df)\n",
        "print(\"Index\",df.index)\n",
        "print(\"Columns\",df.columns)\n",
        "print(\"Col 0\",df.columns[0])\n",
        "print(\"Wickets\",df[\"wickets\"])\n",
        "x=df.loc[\"Sachin\"]\n",
        "print(\"Sachin\",x)\n",
        "x=df.loc[\"Sachin\",:]\n",
        "print(\"Sachin\",x)"
      ],
      "metadata": {
        "colab": {
          "base_uri": "https://localhost:8080/"
        },
        "id": "fEbRHIOIIK2C",
        "outputId": "13bd80e5-4078-4a74-95bb-6024bee21aae"
      },
      "execution_count": 15,
      "outputs": [
        {
          "output_type": "stream",
          "name": "stdout",
          "text": [
            "{'runs': [10, 100, 50, 420], 'wickets': [1, 2, 3, 420]}\n",
            "        wickets  runs\n",
            "Sachin        1    10\n",
            "Rahul         2   100\n",
            "Dhoni         3    50\n",
            "Pappu       420   420\n",
            "Index Index(['Sachin', 'Rahul', 'Dhoni', 'Pappu'], dtype='object')\n",
            "Columns Index(['wickets', 'runs'], dtype='object')\n",
            "Col 0 wickets\n",
            "Wickets Sachin      1\n",
            "Rahul       2\n",
            "Dhoni       3\n",
            "Pappu     420\n",
            "Name: wickets, dtype: int64\n",
            "Sachin wickets     1\n",
            "runs       10\n",
            "Name: Sachin, dtype: int64\n",
            "Sachin wickets     1\n",
            "runs       10\n",
            "Name: Sachin, dtype: int64\n"
          ]
        }
      ]
    },
    {
      "cell_type": "markdown",
      "source": [
        "**Dataframe** from **dictionary**"
      ],
      "metadata": {
        "id": "tTCF3ylUJJxk"
      }
    },
    {
      "cell_type": "code",
      "source": [
        "\n",
        "runs={\"Sachin\":100,\"Pappu\":420,\"Saubhagya\":1}\n",
        "wickets={\"Sachin\":1,\"Pappu\":420}\n",
        "data=[runs,wickets]\n",
        "df=pd.DataFrame(data)\n",
        "print(df)\n"
      ],
      "metadata": {
        "colab": {
          "base_uri": "https://localhost:8080/"
        },
        "id": "_yOxOhlKJWBs",
        "outputId": "7229e81c-466b-43de-aab7-0bae6f8f80d8"
      },
      "execution_count": 16,
      "outputs": [
        {
          "output_type": "stream",
          "name": "stdout",
          "text": [
            "   Sachin  Pappu  Saubhagya\n",
            "0     100    420        1.0\n",
            "1       1    420        NaN\n"
          ]
        }
      ]
    },
    {
      "cell_type": "markdown",
      "source": [
        "**Dataframe** To **Excel**"
      ],
      "metadata": {
        "id": "WRHv22yDLFIl"
      }
    },
    {
      "cell_type": "code",
      "source": [
        "\n",
        "runs={\"Sachin\":100,\"Pappu\":420,\"Saubhagya\":1}\n",
        "wickets={\"Sachin\":1,\"Pappu\":420}\n",
        "data=[runs,wickets]\n",
        "index=[\"Runs\",\"Wickets\"]\n",
        "df=pd.DataFrame(data,index)\n",
        "print(df)\n",
        "df.to_csv(\"scores.csv\")\n",
        "df.to_excel(\"scores.xlsx\")"
      ],
      "metadata": {
        "colab": {
          "base_uri": "https://localhost:8080/"
        },
        "id": "MNd1F2AjL4aJ",
        "outputId": "fa7cd2ed-5179-4dab-fa30-bb4a6b177186"
      },
      "execution_count": 17,
      "outputs": [
        {
          "output_type": "stream",
          "name": "stdout",
          "text": [
            "         Sachin  Pappu  Saubhagya\n",
            "Runs        100    420        1.0\n",
            "Wickets       1    420        NaN\n"
          ]
        }
      ]
    }
  ]
}