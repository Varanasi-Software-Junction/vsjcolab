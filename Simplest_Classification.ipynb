{
  "nbformat": 4,
  "nbformat_minor": 0,
  "metadata": {
    "colab": {
      "provenance": [],
      "collapsed_sections": [],
      "authorship_tag": "ABX9TyN/WUt4CqhGMeO5NEPuXcdU",
      "include_colab_link": true
    },
    "kernelspec": {
      "name": "python3",
      "display_name": "Python 3"
    },
    "language_info": {
      "name": "python"
    }
  },
  "cells": [
    {
      "cell_type": "markdown",
      "metadata": {
        "id": "view-in-github",
        "colab_type": "text"
      },
      "source": [
        "<a href=\"https://colab.research.google.com/github/Varanasi-Software-Junction/vsjcolab/blob/main/Simplest_Classification.ipynb\" target=\"_parent\"><img src=\"https://colab.research.google.com/assets/colab-badge.svg\" alt=\"Open In Colab\"/></a>"
      ]
    },
    {
      "cell_type": "markdown",
      "source": [
        "**Import tree from sklearn**\n",
        "\n",
        "[sklearn tree documentation](https://scikit-learn.org/stable/modules/tree.html)\n",
        "\n",
        "**Import Matplotlib**\n",
        "\n",
        "[Matplotlib docs](https://matplotlib.org/stable/api/pyplot_summary.html#module-matplotlib.pyplot)"
      ],
      "metadata": {
        "id": "Ml1s2KLjc0rm"
      }
    },
    {
      "cell_type": "code",
      "source": [
        "from sklearn import tree\n",
        "import matplotlib.pyplot as plt"
      ],
      "metadata": {
        "id": "A2hBbURZd7u_"
      },
      "execution_count": 3,
      "outputs": []
    },
    {
      "cell_type": "markdown",
      "source": [
        "**Make the functions that derive the results according to marks**\n",
        "We have 2 sets. One just for fail and pass. \n",
        "The other for divisions.\n",
        "\n",
        "**Please run only one of these two.**\n",
        "\n",
        "The one below is for pass/fail only."
      ],
      "metadata": {
        "id": "WA9OVqDLRWis"
      }
    },
    {
      "cell_type": "code",
      "source": [
        "#Functions for pass and fail only\n",
        "def divisions(n):\n",
        "  # Convert numeric division code to text\n",
        "  if n==2:\n",
        "    return \"fail\"\n",
        "  return \"pass\"\n",
        "def classifications(n):\n",
        "  # Less than 40 is fail and the numeric code is 2. \n",
        "# Pass numeric code is 1\n",
        "  if n<40:\n",
        "    return 2\n",
        "  return 1\n"
      ],
      "metadata": {
        "id": "7Mu_rGuve1rc"
      },
      "execution_count": 16,
      "outputs": []
    },
    {
      "cell_type": "markdown",
      "source": [
        "**Functions to be run for divisions for divisions**"
      ],
      "metadata": {
        "id": "9N4zdbDTRunI"
      }
    },
    {
      "cell_type": "code",
      "source": [
        "#Functions for division\n",
        "def divisions(n):\n",
        "  # Convert numeric division code to text\n",
        "  if n==4:\n",
        "    return \"fail\"\n",
        "  if n==3:\n",
        "    return \"3rd\"\n",
        "  if n==2:\n",
        "    return \"2nd\"\n",
        "  return \"1st\"\n",
        "def classifications(n):\n",
        "  # Less than 40 is fail and the numeric code is 4. \n",
        "  # >=40 and less than 50 = 3rd division\n",
        "  # >=50 and less than 60 = 2nd division\n",
        "  # >=60 1st division\n",
        "  if n<40:\n",
        "    return 4\n",
        "  if n<50:\n",
        "    return 3\n",
        "  if n<60:\n",
        "    return 2\n",
        "  return 1\n"
      ],
      "metadata": {
        "id": "c-PuDG2ceAEc"
      },
      "execution_count": null,
      "outputs": []
    },
    {
      "cell_type": "markdown",
      "source": [
        "The input marks. We calculate the results according to the functions run above.\n",
        "The input to the program. \n",
        "**This is the only input.**"
      ],
      "metadata": {
        "id": "JE0CKJHvR26t"
      }
    },
    {
      "cell_type": "code",
      "source": [
        "inputmarks=[50,45,66,7,89,21,39,40,89]\n",
        "inputmarks.sort()\n",
        "marks=[[x] for x in inputmarks]#Classification needs input as a 2d array\n",
        "#Use one of the following three\n",
        "#results=[classifications(x) for x in inputmarks]#Calculated\n",
        "#results= [4, 4, 4, 3, 3, 2, 1, 1,1]# Input Results\n",
        "#results= [4, 4, 1, 3, 3, 2, 1, 1,1]# Input Results with error\n",
        "results= [4, 4, 1, 1, 1, 1, 1, 1,4]# Input Results with fail pass error\n",
        "#results= [4, 4, 4, 3, 3, 2, 1, 1,4]# Input Results with labeling error. 89 = both1 and 2\n",
        "textresults=[divisions(x) for x in results]# Print results in words"
      ],
      "metadata": {
        "id": "RqUuMRfjSgcF"
      },
      "execution_count": 24,
      "outputs": []
    },
    {
      "cell_type": "markdown",
      "source": [
        "Create the results array or let the software do it.We have the option to add so that we can introduce errors for testing."
      ],
      "metadata": {
        "id": "knXrbW_6cpj4"
      }
    },
    {
      "cell_type": "code",
      "source": [
        "print(\"Results numeric\",results)\n",
        "print(\"Results text\",textresults)\n",
        "print(\"Input marks \",inputmarks)"
      ],
      "metadata": {
        "id": "4JdT24pyeQ2j",
        "colab": {
          "base_uri": "https://localhost:8080/"
        },
        "outputId": "8e058751-df1b-44ee-e505-b9cf6db08dbf"
      },
      "execution_count": 25,
      "outputs": [
        {
          "output_type": "stream",
          "name": "stdout",
          "text": [
            "Results numeric [4, 4, 1, 1, 1, 1, 1, 1, 4]\n",
            "Results text ['pass', 'pass', 'pass', 'pass', 'pass', 'pass', 'pass', 'pass', 'pass']\n",
            "Input marks  [7, 21, 39, 40, 45, 50, 66, 89, 89]\n"
          ]
        }
      ]
    },
    {
      "cell_type": "markdown",
      "source": [
        "Create the Classifier\n",
        "and\n",
        "get the model"
      ],
      "metadata": {
        "id": "aQmVyzAhr5tb"
      }
    },
    {
      "cell_type": "code",
      "source": [
        "classifier = tree.DecisionTreeClassifier()\n",
        "model = classifier.fit(marks, results)"
      ],
      "metadata": {
        "id": "uxb9xMTZ2ReT"
      },
      "execution_count": 26,
      "outputs": []
    },
    {
      "cell_type": "code",
      "execution_count": 27,
      "metadata": {
        "colab": {
          "base_uri": "https://localhost:8080/"
        },
        "id": "8IHF-vr3IuFV",
        "outputId": "68ee8cde-b62f-4586-ca9d-974d86d6f811"
      },
      "outputs": [
        {
          "output_type": "stream",
          "name": "stdout",
          "text": [
            "[4, 4, 4, 4, 4, 4, 4, 4, 4, 4, 4, 4, 4, 4, 4, 4, 4, 4, 4, 4, 4, 4, 4, 4, 4, 4, 4, 4, 4, 4, 4, 1, 1, 1, 1, 1, 1, 1, 1, 1, 1, 1, 1, 1, 1, 1, 1, 1, 1, 1, 1, 1, 1, 1, 1, 1, 1, 1, 1, 1, 1, 1, 1, 1, 1, 1, 1, 1, 1, 1, 1, 1, 1, 1, 1, 1, 1, 1, 1, 1, 1, 1, 1, 1, 1, 1, 1, 1, 1, 1, 1, 1, 1, 1, 1, 1, 1, 1, 1, 1, 1]\n"
          ]
        }
      ],
      "source": [
        "fullmarksrange=[x for x in range(101)]\n",
        "fullresultrange=[model.predict([[x]])[0] for x in fullmarksrange]\n",
        "print(fullresultrange)"
      ]
    },
    {
      "cell_type": "code",
      "source": [
        "plt.plot(marks,results,color='red')\n",
        "plt.scatter(marks,results,color='blue',marker='o')\n",
        "plt.grid()\n",
        "plt.xlabel('Marks')\n",
        "plt.ylabel('Division')\n",
        "plt.title(\"Marks - Division\")\n",
        "plt.legend([\"Actual Division\",\"Actual Division\"])\n",
        "plt.show()\n"
      ],
      "metadata": {
        "colab": {
          "base_uri": "https://localhost:8080/",
          "height": 295
        },
        "id": "Gp30bdRD2mZN",
        "outputId": "8c389329-8894-4d7f-ef8c-bcd622a00265"
      },
      "execution_count": 28,
      "outputs": [
        {
          "output_type": "display_data",
          "data": {
            "text/plain": [
              "<Figure size 432x288 with 1 Axes>"
            ],
            "image/png": "[encoded data removed]"
          },
          "metadata": {
            "needs_background": "light"
          }
        }
      ]
    },
    {
      "cell_type": "code",
      "source": [
        "plt.plot(fullmarksrange,fullresultrange,color='green')\n",
        "plt.scatter(marks,results,color='brown',marker='o')\n",
        "plt.grid()\n",
        "plt.xlabel('Marks')\n",
        "plt.ylabel('Division')\n",
        "plt.title(\"Predicted Marks - Division\")\n",
        "plt.legend([\"Predicted Division\",\"Predicted Division\"])\n",
        "plt.show()"
      ],
      "metadata": {
        "colab": {
          "base_uri": "https://localhost:8080/",
          "height": 295
        },
        "id": "LBCSegLC46Iv",
        "outputId": "d848850a-a2f6-48ad-8a55-73fd705b3e99"
      },
      "execution_count": 29,
      "outputs": [
        {
          "output_type": "display_data",
          "data": {
            "text/plain": [
              "<Figure size 432x288 with 1 Axes>"
            ],
            "image/png": "[encoded data removed]"
          },
          "metadata": {
            "needs_background": "light"
          }
        }
      ]
    },
    {
      "cell_type": "code",
      "source": [
        "for i in range(101):\n",
        "  value=[[i]]\n",
        "  result=model.predict(value)\n",
        "  probability=model.predict_proba(value)\n",
        "  print(\"[Marks \",value[0][0], \" result is \",divisions(result) , \" prob is \", probability[0],\"]\",end=\",\")\n",
        "  if i % 10==0 and i>0:\n",
        "    print()"
      ],
      "metadata": {
        "colab": {
          "base_uri": "https://localhost:8080/"
        },
        "id": "Ra8LiX2C2qrB",
        "outputId": "17d98b59-93c6-47be-dfb3-03237f9cdb18"
      },
      "execution_count": 30,
      "outputs": [
        {
          "output_type": "stream",
          "name": "stdout",
          "text": [
            "[Marks  0  result is  pass  prob is  [0. 1.] ],[Marks  1  result is  pass  prob is  [0. 1.] ],[Marks  2  result is  pass  prob is  [0. 1.] ],[Marks  3  result is  pass  prob is  [0. 1.] ],[Marks  4  result is  pass  prob is  [0. 1.] ],[Marks  5  result is  pass  prob is  [0. 1.] ],[Marks  6  result is  pass  prob is  [0. 1.] ],[Marks  7  result is  pass  prob is  [0. 1.] ],[Marks  8  result is  pass  prob is  [0. 1.] ],[Marks  9  result is  pass  prob is  [0. 1.] ],[Marks  10  result is  pass  prob is  [0. 1.] ],\n",
            "[Marks  11  result is  pass  prob is  [0. 1.] ],[Marks  12  result is  pass  prob is  [0. 1.] ],[Marks  13  result is  pass  prob is  [0. 1.] ],[Marks  14  result is  pass  prob is  [0. 1.] ],[Marks  15  result is  pass  prob is  [0. 1.] ],[Marks  16  result is  pass  prob is  [0. 1.] ],[Marks  17  result is  pass  prob is  [0. 1.] ],[Marks  18  result is  pass  prob is  [0. 1.] ],[Marks  19  result is  pass  prob is  [0. 1.] ],[Marks  20  result is  pass  prob is  [0. 1.] ],\n",
            "[Marks  21  result is  pass  prob is  [0. 1.] ],[Marks  22  result is  pass  prob is  [0. 1.] ],[Marks  23  result is  pass  prob is  [0. 1.] ],[Marks  24  result is  pass  prob is  [0. 1.] ],[Marks  25  result is  pass  prob is  [0. 1.] ],[Marks  26  result is  pass  prob is  [0. 1.] ],[Marks  27  result is  pass  prob is  [0. 1.] ],[Marks  28  result is  pass  prob is  [0. 1.] ],[Marks  29  result is  pass  prob is  [0. 1.] ],[Marks  30  result is  pass  prob is  [0. 1.] ],\n",
            "[Marks  31  result is  pass  prob is  [1. 0.] ],[Marks  32  result is  pass  prob is  [1. 0.] ],[Marks  33  result is  pass  prob is  [1. 0.] ],[Marks  34  result is  pass  prob is  [1. 0.] ],[Marks  35  result is  pass  prob is  [1. 0.] ],[Marks  36  result is  pass  prob is  [1. 0.] ],[Marks  37  result is  pass  prob is  [1. 0.] ],[Marks  38  result is  pass  prob is  [1. 0.] ],[Marks  39  result is  pass  prob is  [1. 0.] ],[Marks  40  result is  pass  prob is  [1. 0.] ],\n",
            "[Marks  41  result is  pass  prob is  [1. 0.] ],[Marks  42  result is  pass  prob is  [1. 0.] ],[Marks  43  result is  pass  prob is  [1. 0.] ],[Marks  44  result is  pass  prob is  [1. 0.] ],[Marks  45  result is  pass  prob is  [1. 0.] ],[Marks  46  result is  pass  prob is  [1. 0.] ],[Marks  47  result is  pass  prob is  [1. 0.] ],[Marks  48  result is  pass  prob is  [1. 0.] ],[Marks  49  result is  pass  prob is  [1. 0.] ],[Marks  50  result is  pass  prob is  [1. 0.] ],\n",
            "[Marks  51  result is  pass  prob is  [1. 0.] ],[Marks  52  result is  pass  prob is  [1. 0.] ],[Marks  53  result is  pass  prob is  [1. 0.] ],[Marks  54  result is  pass  prob is  [1. 0.] ],[Marks  55  result is  pass  prob is  [1. 0.] ],[Marks  56  result is  pass  prob is  [1. 0.] ],[Marks  57  result is  pass  prob is  [1. 0.] ],[Marks  58  result is  pass  prob is  [1. 0.] ],[Marks  59  result is  pass  prob is  [1. 0.] ],[Marks  60  result is  pass  prob is  [1. 0.] ],\n",
            "[Marks  61  result is  pass  prob is  [1. 0.] ],[Marks  62  result is  pass  prob is  [1. 0.] ],[Marks  63  result is  pass  prob is  [1. 0.] ],[Marks  64  result is  pass  prob is  [1. 0.] ],[Marks  65  result is  pass  prob is  [1. 0.] ],[Marks  66  result is  pass  prob is  [1. 0.] ],[Marks  67  result is  pass  prob is  [1. 0.] ],[Marks  68  result is  pass  prob is  [1. 0.] ],[Marks  69  result is  pass  prob is  [1. 0.] ],[Marks  70  result is  pass  prob is  [1. 0.] ],\n",
            "[Marks  71  result is  pass  prob is  [1. 0.] ],[Marks  72  result is  pass  prob is  [1. 0.] ],[Marks  73  result is  pass  prob is  [1. 0.] ],[Marks  74  result is  pass  prob is  [1. 0.] ],[Marks  75  result is  pass  prob is  [1. 0.] ],[Marks  76  result is  pass  prob is  [1. 0.] ],[Marks  77  result is  pass  prob is  [1. 0.] ],[Marks  78  result is  pass  prob is  [0.5 0.5] ],[Marks  79  result is  pass  prob is  [0.5 0.5] ],[Marks  80  result is  pass  prob is  [0.5 0.5] ],\n",
            "[Marks  81  result is  pass  prob is  [0.5 0.5] ],[Marks  82  result is  pass  prob is  [0.5 0.5] ],[Marks  83  result is  pass  prob is  [0.5 0.5] ],[Marks  84  result is  pass  prob is  [0.5 0.5] ],[Marks  85  result is  pass  prob is  [0.5 0.5] ],[Marks  86  result is  pass  prob is  [0.5 0.5] ],[Marks  87  result is  pass  prob is  [0.5 0.5] ],[Marks  88  result is  pass  prob is  [0.5 0.5] ],[Marks  89  result is  pass  prob is  [0.5 0.5] ],[Marks  90  result is  pass  prob is  [0.5 0.5] ],\n",
            "[Marks  91  result is  pass  prob is  [0.5 0.5] ],[Marks  92  result is  pass  prob is  [0.5 0.5] ],[Marks  93  result is  pass  prob is  [0.5 0.5] ],[Marks  94  result is  pass  prob is  [0.5 0.5] ],[Marks  95  result is  pass  prob is  [0.5 0.5] ],[Marks  96  result is  pass  prob is  [0.5 0.5] ],[Marks  97  result is  pass  prob is  [0.5 0.5] ],[Marks  98  result is  pass  prob is  [0.5 0.5] ],[Marks  99  result is  pass  prob is  [0.5 0.5] ],[Marks  100  result is  pass  prob is  [0.5 0.5] ],\n"
          ]
        }
      ]
    },
    {
      "cell_type": "code",
      "source": [],
      "metadata": {
        "id": "nG14pFcqIB47"
      },
      "execution_count": null,
      "outputs": []
    },
    {
      "cell_type": "code",
      "source": [],
      "metadata": {
        "id": "2_1kP4BzIByu"
      },
      "execution_count": null,
      "outputs": []
    },
    {
      "cell_type": "markdown",
      "source": [],
      "metadata": {
        "id": "ywJxRUvxfnUX"
      }
    }
  ]
}