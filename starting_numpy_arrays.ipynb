{
  "nbformat": 4,
  "nbformat_minor": 0,
  "metadata": {
    "colab": {
      "provenance": [],
      "authorship_tag": "ABX9TyMjyySG7oiL0VbBhWWhzvdt",
      "include_colab_link": true
    },
    "kernelspec": {
      "name": "python3",
      "display_name": "Python 3"
    },
    "language_info": {
      "name": "python"
    }
  },
  "cells": [
    {
      "cell_type": "markdown",
      "metadata": {
        "id": "view-in-github",
        "colab_type": "text"
      },
      "source": [
        "<a href=\"https://colab.research.google.com/github/Varanasi-Software-Junction/vsjcolab/blob/main/starting_numpy_arrays.ipynb\" target=\"_parent\"><img src=\"https://colab.research.google.com/assets/colab-badge.svg\" alt=\"Open In Colab\"/></a>"
      ]
    },
    {
      "cell_type": "markdown",
      "source": [
        "**Imports**"
      ],
      "metadata": {
        "id": "7TO0sfBpnxSV"
      }
    },
    {
      "cell_type": "code",
      "execution_count": 48,
      "metadata": {
        "id": "C3x3GuJhnCIV"
      },
      "outputs": [],
      "source": [
        "import numpy as np"
      ]
    },
    {
      "cell_type": "markdown",
      "source": [
        "Create an array using list"
      ],
      "metadata": {
        "id": "Nr2zrKIboG9R"
      }
    },
    {
      "cell_type": "code",
      "source": [
        "a = np.array([1, 2, 3, 4, 5])\n",
        "print(a)\n",
        "print(type(a))"
      ],
      "metadata": {
        "colab": {
          "base_uri": "https://localhost:8080/"
        },
        "id": "fjxShJ2JoBfF",
        "outputId": "bde61186-499b-445a-b303-29519d21324c"
      },
      "execution_count": 49,
      "outputs": [
        {
          "output_type": "stream",
          "name": "stdout",
          "text": [
            "[1 2 3 4 5]\n",
            "<class 'numpy.ndarray'>\n"
          ]
        }
      ]
    },
    {
      "cell_type": "markdown",
      "source": [
        "Create an array using tuple"
      ],
      "metadata": {
        "id": "zRpqPH-NwPz4"
      }
    },
    {
      "cell_type": "code",
      "source": [
        "a = np.array((1, 2, 3, 4, 5))\n",
        "print(a)"
      ],
      "metadata": {
        "colab": {
          "base_uri": "https://localhost:8080/"
        },
        "id": "5_yey_UNo4rb",
        "outputId": "f0ee9fe5-8ad3-4c8e-e71a-0a3f365a9011"
      },
      "execution_count": 50,
      "outputs": [
        {
          "output_type": "stream",
          "name": "stdout",
          "text": [
            "[1 2 3 4 5]\n"
          ]
        }
      ]
    },
    {
      "cell_type": "markdown",
      "source": [],
      "metadata": {
        "id": "Dm9GtZVAxhZr"
      }
    },
    {
      "cell_type": "markdown",
      "source": [
        "Create an array using set"
      ],
      "metadata": {
        "id": "ogzd5D0RxiNR"
      }
    },
    {
      "cell_type": "code",
      "source": [
        "a = np.array({1,2,3,4,5})\n",
        "print(a)\n"
      ],
      "metadata": {
        "colab": {
          "base_uri": "https://localhost:8080/"
        },
        "id": "i2u6IOvppAnR",
        "outputId": "0b9043a6-99a6-462f-c5f4-ae651fe1b9f3"
      },
      "execution_count": 51,
      "outputs": [
        {
          "output_type": "stream",
          "name": "stdout",
          "text": [
            "{1, 2, 3, 4, 5}\n"
          ]
        }
      ]
    },
    {
      "cell_type": "markdown",
      "source": [],
      "metadata": {
        "id": "3wT-hnyqyDZ7"
      }
    },
    {
      "cell_type": "markdown",
      "source": [
        "Create an array using dictionary"
      ],
      "metadata": {
        "id": "cxLMfrT_yEL3"
      }
    },
    {
      "cell_type": "code",
      "source": [
        "a = np.array({\"one\":1,\"two\":2,\"three\":3,\"four\":4,\"five\":5})\n",
        "print(a)\n"
      ],
      "metadata": {
        "colab": {
          "base_uri": "https://localhost:8080/"
        },
        "id": "oSMPScd5ppTO",
        "outputId": "0777e75c-d7ed-436a-aa88-79093afccfad"
      },
      "execution_count": 52,
      "outputs": [
        {
          "output_type": "stream",
          "name": "stdout",
          "text": [
            "{'one': 1, 'two': 2, 'three': 3, 'four': 4, 'five': 5}\n"
          ]
        }
      ]
    },
    {
      "cell_type": "markdown",
      "source": [],
      "metadata": {
        "id": "GKRHWDZhyQ66"
      }
    },
    {
      "cell_type": "markdown",
      "source": [
        "Create an array using range"
      ],
      "metadata": {
        "id": "D4jRSuaZyR1I"
      }
    },
    {
      "cell_type": "code",
      "source": [],
      "metadata": {
        "id": "agbl5DDQqNZs"
      },
      "execution_count": 52,
      "outputs": []
    },
    {
      "cell_type": "code",
      "source": [
        "a = np.array(range(1,6))\n",
        "print(a)\n"
      ],
      "metadata": {
        "colab": {
          "base_uri": "https://localhost:8080/"
        },
        "outputId": "43f8f236-347c-458a-c01a-41a7f4def7ed",
        "id": "viDxbUyCqSFi"
      },
      "execution_count": 53,
      "outputs": [
        {
          "output_type": "stream",
          "name": "stdout",
          "text": [
            "[1 2 3 4 5]\n"
          ]
        }
      ]
    },
    {
      "cell_type": "markdown",
      "source": [],
      "metadata": {
        "id": "K0TYYYPFybdf"
      }
    },
    {
      "cell_type": "markdown",
      "source": [
        "Create an array using ones"
      ],
      "metadata": {
        "id": "2xESBsHoyb-7"
      }
    },
    {
      "cell_type": "code",
      "source": [
        "a = np.ones(5)\n",
        "print(a)\n"
      ],
      "metadata": {
        "colab": {
          "base_uri": "https://localhost:8080/"
        },
        "outputId": "ddee01c2-4cb4-4368-8bde-9276700dd984",
        "id": "O8lHbvl2q4G4"
      },
      "execution_count": 54,
      "outputs": [
        {
          "output_type": "stream",
          "name": "stdout",
          "text": [
            "[1. 1. 1. 1. 1.]\n"
          ]
        }
      ]
    },
    {
      "cell_type": "markdown",
      "source": [],
      "metadata": {
        "id": "p9rc0wP6yi5o"
      }
    },
    {
      "cell_type": "markdown",
      "source": [
        "Create an array using zeros"
      ],
      "metadata": {
        "id": "Imeinyl2yjvj"
      }
    },
    {
      "cell_type": "code",
      "source": [
        "a = np.zeros(5)\n",
        "print(a)\n"
      ],
      "metadata": {
        "colab": {
          "base_uri": "https://localhost:8080/"
        },
        "outputId": "734b0be1-7858-4e75-d412-2da9e48f8ce2",
        "id": "wqfvC40rrCu2"
      },
      "execution_count": 55,
      "outputs": [
        {
          "output_type": "stream",
          "name": "stdout",
          "text": [
            "[0. 0. 0. 0. 0.]\n"
          ]
        }
      ]
    },
    {
      "cell_type": "markdown",
      "source": [],
      "metadata": {
        "id": "hXARzm2GysnT"
      }
    },
    {
      "cell_type": "markdown",
      "source": [
        "Create an array using arange"
      ],
      "metadata": {
        "id": "yw7HpqDFytRQ"
      }
    },
    {
      "cell_type": "code",
      "source": [
        "a = np.arange(5)\n",
        "print(a)\n",
        "a = np.arange(1,6)\n",
        "print(a)\n",
        "a = np.arange(1,6,2)\n",
        "print(a)\n",
        "a = np.arange(5,0,-1)\n",
        "print(a)\n"
      ],
      "metadata": {
        "colab": {
          "base_uri": "https://localhost:8080/"
        },
        "outputId": "78e73aea-e654-4905-d3b6-a4f19e07895a",
        "id": "Imqlpl1qrc6F"
      },
      "execution_count": 56,
      "outputs": [
        {
          "output_type": "stream",
          "name": "stdout",
          "text": [
            "[0 1 2 3 4]\n",
            "[1 2 3 4 5]\n",
            "[1 3 5]\n",
            "[5 4 3 2 1]\n"
          ]
        }
      ]
    },
    {
      "cell_type": "markdown",
      "source": [
        "Create an array using random"
      ],
      "metadata": {
        "id": "xQALh3afzbdc"
      }
    },
    {
      "cell_type": "code",
      "source": [
        "a = np.random.rand(1,10)\n",
        "print(a)\n",
        "\n",
        "a =np.random.power(5, 5)\n",
        "print(a)\n",
        "\n",
        "a =np.random.randint(5,size= 5)\n",
        "print(a)\n",
        "\n",
        "rng = np.random.default_rng()\n",
        "a =rng.integers(5,size=5)\n",
        "print(a)\n"
      ],
      "metadata": {
        "colab": {
          "base_uri": "https://localhost:8080/"
        },
        "id": "uj5eeXRHsXom",
        "outputId": "164cb9aa-c551-4827-bdbd-a51ad3a53378"
      },
      "execution_count": 57,
      "outputs": [
        {
          "output_type": "stream",
          "name": "stdout",
          "text": [
            "[[0.67121009 0.2980289  0.12356092 0.30055242 0.98518739 0.14157377\n",
            "  0.21406213 0.70181604 0.69759184 0.18417412]]\n",
            "[0.82039814 0.881792   0.65365518 0.26894867 0.95711875]\n",
            "[4 3 0 3 1]\n",
            "[0 0 2 3 0]\n"
          ]
        }
      ]
    },
    {
      "cell_type": "code",
      "source": [
        "\n"
      ],
      "metadata": {
        "id": "vG94-iVdtZx9"
      },
      "execution_count": 57,
      "outputs": []
    },
    {
      "cell_type": "code",
      "source": [],
      "metadata": {
        "id": "YYwOA_COtO0l"
      },
      "execution_count": 57,
      "outputs": []
    }
  ]
}